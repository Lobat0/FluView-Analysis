{
 "cells": [
  {
   "cell_type": "code",
   "execution_count": 1,
   "id": "da6697d3-efc7-41bb-b476-a7c536d17f3e",
   "metadata": {
    "tags": []
   },
   "outputs": [],
   "source": [
    "import numpy as np\n",
    "import pandas as pd\n",
    "import seaborn as sns\n",
    "import matplotlib.pyplot as plt\n",
    "from datetime import datetime"
   ]
  },
  {
   "cell_type": "code",
   "execution_count": 11,
   "id": "9fdc72b5-2078-494d-802b-191235040d1c",
   "metadata": {
    "tags": []
   },
   "outputs": [],
   "source": [
    "clinico = pd.read_csv('ICL_NREVSS_Clinical_Labs.csv', skiprows=1)\n",
    "publico = pd.read_csv('ICL_NREVSS_Public_Health_Labs.csv', skiprows=1)\n",
    "ili = pd.read_csv('ILINet.csv', skiprows=1)"
   ]
  },
  {
   "cell_type": "markdown",
   "id": "3d048291-98fd-4bdb-a5be-38efdc461f59",
   "metadata": {},
   "source": [
    "# Limpeza dados \n",
    "## 1- Clinico"
   ]
  },
  {
   "cell_type": "code",
   "execution_count": 12,
   "id": "5a0f1d64-3ff2-4df1-99b7-3df516839bb1",
   "metadata": {
    "tags": []
   },
   "outputs": [
    {
     "data": {
      "text/html": [
       "<div>\n",
       "<style scoped>\n",
       "    .dataframe tbody tr th:only-of-type {\n",
       "        vertical-align: middle;\n",
       "    }\n",
       "\n",
       "    .dataframe tbody tr th {\n",
       "        vertical-align: top;\n",
       "    }\n",
       "\n",
       "    .dataframe thead th {\n",
       "        text-align: right;\n",
       "    }\n",
       "</style>\n",
       "<table border=\"1\" class=\"dataframe\">\n",
       "  <thead>\n",
       "    <tr style=\"text-align: right;\">\n",
       "      <th></th>\n",
       "      <th>REGION TYPE</th>\n",
       "      <th>REGION</th>\n",
       "      <th>YEAR</th>\n",
       "      <th>WEEK</th>\n",
       "      <th>TOTAL SPECIMENS</th>\n",
       "      <th>TOTAL A</th>\n",
       "      <th>TOTAL B</th>\n",
       "      <th>PERCENT POSITIVE</th>\n",
       "      <th>PERCENT A</th>\n",
       "      <th>PERCENT B</th>\n",
       "    </tr>\n",
       "  </thead>\n",
       "  <tbody>\n",
       "    <tr>\n",
       "      <th>21</th>\n",
       "      <td>National</td>\n",
       "      <td>X</td>\n",
       "      <td>2025</td>\n",
       "      <td>9</td>\n",
       "      <td>132864</td>\n",
       "      <td>22242</td>\n",
       "      <td>3595</td>\n",
       "      <td>19.44620</td>\n",
       "      <td>16.74040</td>\n",
       "      <td>2.70577</td>\n",
       "    </tr>\n",
       "    <tr>\n",
       "      <th>22</th>\n",
       "      <td>National</td>\n",
       "      <td>X</td>\n",
       "      <td>2025</td>\n",
       "      <td>10</td>\n",
       "      <td>115729</td>\n",
       "      <td>14674</td>\n",
       "      <td>3658</td>\n",
       "      <td>15.84050</td>\n",
       "      <td>12.67960</td>\n",
       "      <td>3.16083</td>\n",
       "    </tr>\n",
       "    <tr>\n",
       "      <th>23</th>\n",
       "      <td>National</td>\n",
       "      <td>X</td>\n",
       "      <td>2025</td>\n",
       "      <td>11</td>\n",
       "      <td>104541</td>\n",
       "      <td>10352</td>\n",
       "      <td>3693</td>\n",
       "      <td>13.43490</td>\n",
       "      <td>9.90233</td>\n",
       "      <td>3.53259</td>\n",
       "    </tr>\n",
       "    <tr>\n",
       "      <th>24</th>\n",
       "      <td>National</td>\n",
       "      <td>X</td>\n",
       "      <td>2025</td>\n",
       "      <td>12</td>\n",
       "      <td>91506</td>\n",
       "      <td>6138</td>\n",
       "      <td>3752</td>\n",
       "      <td>10.80800</td>\n",
       "      <td>6.70776</td>\n",
       "      <td>4.10028</td>\n",
       "    </tr>\n",
       "    <tr>\n",
       "      <th>25</th>\n",
       "      <td>National</td>\n",
       "      <td>X</td>\n",
       "      <td>2025</td>\n",
       "      <td>13</td>\n",
       "      <td>69263</td>\n",
       "      <td>3444</td>\n",
       "      <td>3281</td>\n",
       "      <td>9.70937</td>\n",
       "      <td>4.97235</td>\n",
       "      <td>4.73702</td>\n",
       "    </tr>\n",
       "  </tbody>\n",
       "</table>\n",
       "</div>"
      ],
      "text/plain": [
       "   REGION TYPE REGION  YEAR  WEEK  TOTAL SPECIMENS  TOTAL A  TOTAL B  \\\n",
       "21    National      X  2025     9           132864    22242     3595   \n",
       "22    National      X  2025    10           115729    14674     3658   \n",
       "23    National      X  2025    11           104541    10352     3693   \n",
       "24    National      X  2025    12            91506     6138     3752   \n",
       "25    National      X  2025    13            69263     3444     3281   \n",
       "\n",
       "    PERCENT POSITIVE  PERCENT A  PERCENT B  \n",
       "21          19.44620   16.74040    2.70577  \n",
       "22          15.84050   12.67960    3.16083  \n",
       "23          13.43490    9.90233    3.53259  \n",
       "24          10.80800    6.70776    4.10028  \n",
       "25           9.70937    4.97235    4.73702  "
      ]
     },
     "execution_count": 12,
     "metadata": {},
     "output_type": "execute_result"
    }
   ],
   "source": [
    "clinico.tail()"
   ]
  },
  {
   "cell_type": "code",
   "execution_count": 4,
   "id": "0710b365-0065-4dba-9844-ff0a1739df25",
   "metadata": {
    "tags": []
   },
   "outputs": [],
   "source": [
    "clinico = clinico.drop(columns=['REGION', 'REGION TYPE'])"
   ]
  },
  {
   "cell_type": "code",
   "execution_count": 6,
   "id": "4ffb6c64-6e05-4900-aae6-1c3e07cc3e8e",
   "metadata": {
    "tags": []
   },
   "outputs": [],
   "source": [
    "def get_date(year, week):\n",
    "    return datetime.strptime(f'{int(year)}-{int(week)}-1', \"%Y-%W-%w\")"
   ]
  },
  {
   "cell_type": "code",
   "execution_count": 7,
   "id": "ae7a2b67-2da8-432d-8a1c-df48b33f14a6",
   "metadata": {
    "tags": []
   },
   "outputs": [
    {
     "name": "stdout",
     "output_type": "stream",
     "text": [
      "<class 'pandas.core.frame.DataFrame'>\n",
      "RangeIndex: 26 entries, 0 to 25\n",
      "Data columns (total 8 columns):\n",
      " #   Column            Non-Null Count  Dtype  \n",
      "---  ------            --------------  -----  \n",
      " 0   YEAR              26 non-null     int64  \n",
      " 1   WEEK              26 non-null     int64  \n",
      " 2   TOTAL SPECIMENS   26 non-null     int64  \n",
      " 3   TOTAL A           26 non-null     int64  \n",
      " 4   TOTAL B           26 non-null     int64  \n",
      " 5   PERCENT POSITIVE  26 non-null     float64\n",
      " 6   PERCENT A         26 non-null     float64\n",
      " 7   PERCENT B         26 non-null     float64\n",
      "dtypes: float64(3), int64(5)\n",
      "memory usage: 1.8 KB\n"
     ]
    }
   ],
   "source": [
    "clinico.info()"
   ]
  },
  {
   "cell_type": "code",
   "execution_count": null,
   "id": "fc0f4c8e-6132-41d0-acad-160958415631",
   "metadata": {},
   "outputs": [],
   "source": [
    "clinico['DATE'] = clinico.apply(lambda x: get_date(x['YEAR'], x['WEEK']), axis=1)"
   ]
  }
 ],
 "metadata": {
  "kernelspec": {
   "display_name": "Python 3 (ipykernel)",
   "language": "python",
   "name": "python3"
  },
  "language_info": {
   "codemirror_mode": {
    "name": "ipython",
    "version": 3
   },
   "file_extension": ".py",
   "mimetype": "text/x-python",
   "name": "python",
   "nbconvert_exporter": "python",
   "pygments_lexer": "ipython3",
   "version": "3.11.3"
  }
 },
 "nbformat": 4,
 "nbformat_minor": 5
}
