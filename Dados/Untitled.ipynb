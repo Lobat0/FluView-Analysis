{
 "cells": [
  {
   "cell_type": "code",
   "execution_count": 98,
   "id": "daad0501-0967-41cf-8283-c3458948bce1",
   "metadata": {
    "tags": []
   },
   "outputs": [],
   "source": [
    "import numpy as np\n",
    "import pandas as pd\n",
    "import seaborn as sns\n",
    "import matplotlib.pyplot as plt\n",
    "import datetime\n",
    "#from datetime import datetime"
   ]
  },
  {
   "cell_type": "code",
   "execution_count": 2,
   "id": "aeb85eba-196b-4a31-b65a-64e30f50219f",
   "metadata": {
    "tags": []
   },
   "outputs": [],
   "source": [
    "clinico = pd.read_csv('ICL_NREVSS_Clinical_Labs.csv', skiprows=1)\n",
    "publico = pd.read_csv('ICL_NREVSS_Public_Health_Labs.csv', skiprows=1)\n",
    "ili = pd.read_csv('ILINet.csv', skiprows=1)"
   ]
  },
  {
   "cell_type": "markdown",
   "id": "729e34cd-1677-4068-95e4-f0bbdb146903",
   "metadata": {},
   "source": [
    "# Limpeza dados \n",
    "## 1- Clinico"
   ]
  },
  {
   "cell_type": "code",
   "execution_count": 3,
   "id": "8dda4180-d683-4240-a36b-379d88978f8a",
   "metadata": {
    "tags": []
   },
   "outputs": [
    {
     "data": {
      "text/html": [
       "<div>\n",
       "<style scoped>\n",
       "    .dataframe tbody tr th:only-of-type {\n",
       "        vertical-align: middle;\n",
       "    }\n",
       "\n",
       "    .dataframe tbody tr th {\n",
       "        vertical-align: top;\n",
       "    }\n",
       "\n",
       "    .dataframe thead th {\n",
       "        text-align: right;\n",
       "    }\n",
       "</style>\n",
       "<table border=\"1\" class=\"dataframe\">\n",
       "  <thead>\n",
       "    <tr style=\"text-align: right;\">\n",
       "      <th></th>\n",
       "      <th>REGION TYPE</th>\n",
       "      <th>REGION</th>\n",
       "      <th>YEAR</th>\n",
       "      <th>WEEK</th>\n",
       "      <th>TOTAL SPECIMENS</th>\n",
       "      <th>TOTAL A</th>\n",
       "      <th>TOTAL B</th>\n",
       "      <th>PERCENT POSITIVE</th>\n",
       "      <th>PERCENT A</th>\n",
       "      <th>PERCENT B</th>\n",
       "    </tr>\n",
       "  </thead>\n",
       "  <tbody>\n",
       "    <tr>\n",
       "      <th>233</th>\n",
       "      <td>National</td>\n",
       "      <td>X</td>\n",
       "      <td>2025</td>\n",
       "      <td>12</td>\n",
       "      <td>97442</td>\n",
       "      <td>6505</td>\n",
       "      <td>3950</td>\n",
       "      <td>10.72950</td>\n",
       "      <td>6.67577</td>\n",
       "      <td>4.05369</td>\n",
       "    </tr>\n",
       "    <tr>\n",
       "      <th>234</th>\n",
       "      <td>National</td>\n",
       "      <td>X</td>\n",
       "      <td>2025</td>\n",
       "      <td>13</td>\n",
       "      <td>90052</td>\n",
       "      <td>4458</td>\n",
       "      <td>3891</td>\n",
       "      <td>9.27131</td>\n",
       "      <td>4.95047</td>\n",
       "      <td>4.32084</td>\n",
       "    </tr>\n",
       "    <tr>\n",
       "      <th>235</th>\n",
       "      <td>National</td>\n",
       "      <td>X</td>\n",
       "      <td>2025</td>\n",
       "      <td>14</td>\n",
       "      <td>82103</td>\n",
       "      <td>2845</td>\n",
       "      <td>3415</td>\n",
       "      <td>7.62457</td>\n",
       "      <td>3.46516</td>\n",
       "      <td>4.15941</td>\n",
       "    </tr>\n",
       "    <tr>\n",
       "      <th>236</th>\n",
       "      <td>National</td>\n",
       "      <td>X</td>\n",
       "      <td>2025</td>\n",
       "      <td>15</td>\n",
       "      <td>74104</td>\n",
       "      <td>1771</td>\n",
       "      <td>2951</td>\n",
       "      <td>6.37213</td>\n",
       "      <td>2.38988</td>\n",
       "      <td>3.98224</td>\n",
       "    </tr>\n",
       "    <tr>\n",
       "      <th>237</th>\n",
       "      <td>National</td>\n",
       "      <td>X</td>\n",
       "      <td>2025</td>\n",
       "      <td>16</td>\n",
       "      <td>63566</td>\n",
       "      <td>1173</td>\n",
       "      <td>2358</td>\n",
       "      <td>5.55486</td>\n",
       "      <td>1.84533</td>\n",
       "      <td>3.70953</td>\n",
       "    </tr>\n",
       "  </tbody>\n",
       "</table>\n",
       "</div>"
      ],
      "text/plain": [
       "    REGION TYPE REGION  YEAR  WEEK  TOTAL SPECIMENS  TOTAL A  TOTAL B  \\\n",
       "233    National      X  2025    12            97442     6505     3950   \n",
       "234    National      X  2025    13            90052     4458     3891   \n",
       "235    National      X  2025    14            82103     2845     3415   \n",
       "236    National      X  2025    15            74104     1771     2951   \n",
       "237    National      X  2025    16            63566     1173     2358   \n",
       "\n",
       "     PERCENT POSITIVE  PERCENT A  PERCENT B  \n",
       "233          10.72950    6.67577    4.05369  \n",
       "234           9.27131    4.95047    4.32084  \n",
       "235           7.62457    3.46516    4.15941  \n",
       "236           6.37213    2.38988    3.98224  \n",
       "237           5.55486    1.84533    3.70953  "
      ]
     },
     "execution_count": 3,
     "metadata": {},
     "output_type": "execute_result"
    }
   ],
   "source": [
    "clinico.tail()"
   ]
  },
  {
   "cell_type": "code",
   "execution_count": 4,
   "id": "4b445515-5d45-49a8-9ca5-8de211313b0a",
   "metadata": {
    "tags": []
   },
   "outputs": [],
   "source": [
    "clinico = clinico.drop(columns=['REGION', 'REGION TYPE'])"
   ]
  },
  {
   "cell_type": "code",
   "execution_count": 5,
   "id": "7eae6651-38ed-48a1-b993-e40e49166684",
   "metadata": {
    "tags": []
   },
   "outputs": [],
   "source": [
    "def get_date(year, week):\n",
    "    return datetime.date.fromisocalendar(year, week, 1) "
   ]
  },
  {
   "cell_type": "code",
   "execution_count": 37,
   "id": "15e37611-c4b5-4c54-88a6-d75ddafd810f",
   "metadata": {
    "tags": []
   },
   "outputs": [],
   "source": [
    "clinico['DATE'] = [get_date(y, w) for y, w in zip(clinico['YEAR'], clinico['WEEK'])]"
   ]
  },
  {
   "cell_type": "code",
   "execution_count": 55,
   "id": "bfd14385-0278-45fe-9050-2fb4c20cd68b",
   "metadata": {
    "tags": []
   },
   "outputs": [
    {
     "data": {
      "text/plain": [
       "0"
      ]
     },
     "execution_count": 55,
     "metadata": {},
     "output_type": "execute_result"
    }
   ],
   "source": [
    "clinico.duplicated(subset=['DATE']).sum()"
   ]
  },
  {
   "cell_type": "code",
   "execution_count": 61,
   "id": "4fb3d364-a627-49a1-b552-c5d7016f5682",
   "metadata": {
    "tags": []
   },
   "outputs": [],
   "source": [
    "clinico['TOTAL POSITIVE'] = clinico['TOTAL A'] + clinico['TOTAL B']"
   ]
  },
  {
   "cell_type": "code",
   "execution_count": 63,
   "id": "cf29eea5-6239-413a-9a5a-63f1cb4d9991",
   "metadata": {
    "tags": []
   },
   "outputs": [
    {
     "name": "stdout",
     "output_type": "stream",
     "text": [
      "<class 'pandas.core.frame.DataFrame'>\n",
      "RangeIndex: 238 entries, 0 to 237\n",
      "Data columns (total 10 columns):\n",
      " #   Column            Non-Null Count  Dtype  \n",
      "---  ------            --------------  -----  \n",
      " 0   YEAR              238 non-null    int64  \n",
      " 1   WEEK              238 non-null    int64  \n",
      " 2   TOTAL SPECIMENS   238 non-null    int64  \n",
      " 3   TOTAL A           238 non-null    int64  \n",
      " 4   TOTAL B           238 non-null    int64  \n",
      " 5   PERCENT POSITIVE  238 non-null    float64\n",
      " 6   PERCENT A         238 non-null    float64\n",
      " 7   PERCENT B         238 non-null    float64\n",
      " 8   DATE              238 non-null    object \n",
      " 9   TOTAL POSITIVE    238 non-null    int64  \n",
      "dtypes: float64(3), int64(6), object(1)\n",
      "memory usage: 18.7+ KB\n"
     ]
    }
   ],
   "source": [
    "clinico.info()"
   ]
  },
  {
   "cell_type": "markdown",
   "id": "d431d7b2-600d-486b-b7d5-38b2c74165ea",
   "metadata": {
    "tags": []
   },
   "source": [
    "# Limpeza dados \n",
    "## 2- Publico"
   ]
  },
  {
   "cell_type": "code",
   "execution_count": 82,
   "id": "38ac225f-1eda-4506-9d9f-c1674c5fbfa7",
   "metadata": {
    "tags": []
   },
   "outputs": [
    {
     "data": {
      "text/html": [
       "<div>\n",
       "<style scoped>\n",
       "    .dataframe tbody tr th:only-of-type {\n",
       "        vertical-align: middle;\n",
       "    }\n",
       "\n",
       "    .dataframe tbody tr th {\n",
       "        vertical-align: top;\n",
       "    }\n",
       "\n",
       "    .dataframe thead th {\n",
       "        text-align: right;\n",
       "    }\n",
       "</style>\n",
       "<table border=\"1\" class=\"dataframe\">\n",
       "  <thead>\n",
       "    <tr style=\"text-align: right;\">\n",
       "      <th></th>\n",
       "      <th>REGION TYPE</th>\n",
       "      <th>REGION</th>\n",
       "      <th>YEAR</th>\n",
       "      <th>WEEK</th>\n",
       "      <th>TOTAL SPECIMENS</th>\n",
       "      <th>A (2009 H1N1)</th>\n",
       "      <th>A (H3)</th>\n",
       "      <th>A (Subtyping not Performed)</th>\n",
       "      <th>B</th>\n",
       "      <th>BVic</th>\n",
       "      <th>BYam</th>\n",
       "      <th>H3N2v</th>\n",
       "      <th>A (H5)</th>\n",
       "    </tr>\n",
       "  </thead>\n",
       "  <tbody>\n",
       "    <tr>\n",
       "      <th>233</th>\n",
       "      <td>National</td>\n",
       "      <td>X</td>\n",
       "      <td>2025</td>\n",
       "      <td>12</td>\n",
       "      <td>4324</td>\n",
       "      <td>1476</td>\n",
       "      <td>1046</td>\n",
       "      <td>262</td>\n",
       "      <td>144</td>\n",
       "      <td>143</td>\n",
       "      <td>0</td>\n",
       "      <td>0</td>\n",
       "      <td>0</td>\n",
       "    </tr>\n",
       "    <tr>\n",
       "      <th>234</th>\n",
       "      <td>National</td>\n",
       "      <td>X</td>\n",
       "      <td>2025</td>\n",
       "      <td>13</td>\n",
       "      <td>2685</td>\n",
       "      <td>765</td>\n",
       "      <td>477</td>\n",
       "      <td>152</td>\n",
       "      <td>133</td>\n",
       "      <td>123</td>\n",
       "      <td>0</td>\n",
       "      <td>0</td>\n",
       "      <td>0</td>\n",
       "    </tr>\n",
       "    <tr>\n",
       "      <th>235</th>\n",
       "      <td>National</td>\n",
       "      <td>X</td>\n",
       "      <td>2025</td>\n",
       "      <td>14</td>\n",
       "      <td>2360</td>\n",
       "      <td>688</td>\n",
       "      <td>440</td>\n",
       "      <td>104</td>\n",
       "      <td>157</td>\n",
       "      <td>127</td>\n",
       "      <td>0</td>\n",
       "      <td>0</td>\n",
       "      <td>0</td>\n",
       "    </tr>\n",
       "    <tr>\n",
       "      <th>236</th>\n",
       "      <td>National</td>\n",
       "      <td>X</td>\n",
       "      <td>2025</td>\n",
       "      <td>15</td>\n",
       "      <td>1632</td>\n",
       "      <td>356</td>\n",
       "      <td>183</td>\n",
       "      <td>50</td>\n",
       "      <td>121</td>\n",
       "      <td>153</td>\n",
       "      <td>0</td>\n",
       "      <td>0</td>\n",
       "      <td>0</td>\n",
       "    </tr>\n",
       "    <tr>\n",
       "      <th>237</th>\n",
       "      <td>National</td>\n",
       "      <td>X</td>\n",
       "      <td>2025</td>\n",
       "      <td>16</td>\n",
       "      <td>770</td>\n",
       "      <td>128</td>\n",
       "      <td>59</td>\n",
       "      <td>23</td>\n",
       "      <td>63</td>\n",
       "      <td>64</td>\n",
       "      <td>0</td>\n",
       "      <td>0</td>\n",
       "      <td>0</td>\n",
       "    </tr>\n",
       "  </tbody>\n",
       "</table>\n",
       "</div>"
      ],
      "text/plain": [
       "    REGION TYPE REGION  YEAR  WEEK  TOTAL SPECIMENS  A (2009 H1N1)  A (H3)  \\\n",
       "233    National      X  2025    12             4324           1476    1046   \n",
       "234    National      X  2025    13             2685            765     477   \n",
       "235    National      X  2025    14             2360            688     440   \n",
       "236    National      X  2025    15             1632            356     183   \n",
       "237    National      X  2025    16              770            128      59   \n",
       "\n",
       "     A (Subtyping not Performed)    B  BVic  BYam  H3N2v  A (H5)  \n",
       "233                          262  144   143     0      0       0  \n",
       "234                          152  133   123     0      0       0  \n",
       "235                          104  157   127     0      0       0  \n",
       "236                           50  121   153     0      0       0  \n",
       "237                           23   63    64     0      0       0  "
      ]
     },
     "execution_count": 82,
     "metadata": {},
     "output_type": "execute_result"
    }
   ],
   "source": [
    "publico.tail()"
   ]
  },
  {
   "cell_type": "code",
   "execution_count": 83,
   "id": "f508dd3a-13d7-4410-a93a-8aafb9ea76bf",
   "metadata": {
    "tags": []
   },
   "outputs": [],
   "source": [
    "publico = publico.drop(columns=['REGION', 'REGION TYPE'])"
   ]
  },
  {
   "cell_type": "code",
   "execution_count": 84,
   "id": "87facba2-3fef-40f6-9544-bcbe2b9c1789",
   "metadata": {
    "tags": []
   },
   "outputs": [],
   "source": [
    "publico['TOTAL A'] = publico['A (2009 H1N1)'] + publico['A (H3)'] + publico['A (Subtyping not Performed)'] + publico['A (H5)']"
   ]
  },
  {
   "cell_type": "code",
   "execution_count": 85,
   "id": "8da3ece9-5daa-4429-8626-45335778dc55",
   "metadata": {
    "tags": []
   },
   "outputs": [],
   "source": [
    "publico['TOTAL B'] = publico['B'] + publico['BVic'] + publico['BYam'] + publico['H3N2v']"
   ]
  },
  {
   "cell_type": "code",
   "execution_count": 86,
   "id": "74a93c47-176b-42c1-bb76-7ac75a7eef94",
   "metadata": {
    "tags": []
   },
   "outputs": [],
   "source": [
    "publico['TOTAL POSITIVE'] = publico['TOTAL A'] + publico['TOTAL B']"
   ]
  },
  {
   "cell_type": "code",
   "execution_count": 87,
   "id": "5cf5e00b-044c-492d-a532-5c598e34763e",
   "metadata": {
    "tags": []
   },
   "outputs": [],
   "source": [
    "publico['PERCENT POSITIVE'] = (publico['TOTAL POSITIVE'] / publico['TOTAL SPECIMENS']) * 100"
   ]
  },
  {
   "cell_type": "code",
   "execution_count": 88,
   "id": "3fad8b8a-d3b7-43e4-b647-9c7216baa1a2",
   "metadata": {
    "tags": []
   },
   "outputs": [
    {
     "name": "stdout",
     "output_type": "stream",
     "text": [
      "<class 'pandas.core.frame.DataFrame'>\n",
      "RangeIndex: 238 entries, 0 to 237\n",
      "Data columns (total 15 columns):\n",
      " #   Column                       Non-Null Count  Dtype  \n",
      "---  ------                       --------------  -----  \n",
      " 0   YEAR                         238 non-null    int64  \n",
      " 1   WEEK                         238 non-null    int64  \n",
      " 2   TOTAL SPECIMENS              238 non-null    int64  \n",
      " 3   A (2009 H1N1)                238 non-null    int64  \n",
      " 4   A (H3)                       238 non-null    int64  \n",
      " 5   A (Subtyping not Performed)  238 non-null    int64  \n",
      " 6   B                            238 non-null    int64  \n",
      " 7   BVic                         238 non-null    int64  \n",
      " 8   BYam                         238 non-null    int64  \n",
      " 9   H3N2v                        238 non-null    int64  \n",
      " 10  A (H5)                       238 non-null    int64  \n",
      " 11  TOTAL A                      238 non-null    int64  \n",
      " 12  TOTAL B                      238 non-null    int64  \n",
      " 13  TOTAL POSITIVE               238 non-null    int64  \n",
      " 14  PERCENT POSITIVE             238 non-null    float64\n",
      "dtypes: float64(1), int64(14)\n",
      "memory usage: 28.0 KB\n"
     ]
    }
   ],
   "source": [
    "publico.info()"
   ]
  },
  {
   "cell_type": "code",
   "execution_count": 89,
   "id": "f3457a6a-ba03-49c4-9eab-e51d0733a73c",
   "metadata": {
    "tags": []
   },
   "outputs": [],
   "source": [
    "publico = publico.drop(columns=['A (2009 H1N1)', 'A (H3)', 'A (Subtyping not Performed)', 'B', 'BVic', 'BYam', 'H3N2v', 'A (H5)'])"
   ]
  },
  {
   "cell_type": "code",
   "execution_count": 90,
   "id": "d3802f3d-0e0c-48d1-ab0d-8de906441a44",
   "metadata": {
    "tags": []
   },
   "outputs": [],
   "source": [
    "publico['PERCENT A'] = (publico['TOTAL A'] / publico['TOTAL SPECIMENS']) * 100"
   ]
  },
  {
   "cell_type": "code",
   "execution_count": 91,
   "id": "619258f7-589d-4ed2-9a27-3026dedf0924",
   "metadata": {
    "tags": []
   },
   "outputs": [],
   "source": [
    "publico['PERCENT B'] = (publico['TOTAL B'] / publico['TOTAL SPECIMENS']) * 100"
   ]
  },
  {
   "cell_type": "code",
   "execution_count": 92,
   "id": "c8b368ad-c503-4a69-a04a-a58a7cb09b11",
   "metadata": {
    "tags": []
   },
   "outputs": [
    {
     "data": {
      "text/html": [
       "<div>\n",
       "<style scoped>\n",
       "    .dataframe tbody tr th:only-of-type {\n",
       "        vertical-align: middle;\n",
       "    }\n",
       "\n",
       "    .dataframe tbody tr th {\n",
       "        vertical-align: top;\n",
       "    }\n",
       "\n",
       "    .dataframe thead th {\n",
       "        text-align: right;\n",
       "    }\n",
       "</style>\n",
       "<table border=\"1\" class=\"dataframe\">\n",
       "  <thead>\n",
       "    <tr style=\"text-align: right;\">\n",
       "      <th></th>\n",
       "      <th>YEAR</th>\n",
       "      <th>WEEK</th>\n",
       "      <th>TOTAL SPECIMENS</th>\n",
       "      <th>TOTAL A</th>\n",
       "      <th>TOTAL B</th>\n",
       "      <th>TOTAL POSITIVE</th>\n",
       "      <th>PERCENT POSITIVE</th>\n",
       "      <th>PERCENT A</th>\n",
       "      <th>PERCENT B</th>\n",
       "    </tr>\n",
       "  </thead>\n",
       "  <tbody>\n",
       "    <tr>\n",
       "      <th>233</th>\n",
       "      <td>2025</td>\n",
       "      <td>12</td>\n",
       "      <td>4324</td>\n",
       "      <td>2784</td>\n",
       "      <td>287</td>\n",
       "      <td>3071</td>\n",
       "      <td>71.022202</td>\n",
       "      <td>64.384829</td>\n",
       "      <td>6.637373</td>\n",
       "    </tr>\n",
       "    <tr>\n",
       "      <th>234</th>\n",
       "      <td>2025</td>\n",
       "      <td>13</td>\n",
       "      <td>2685</td>\n",
       "      <td>1394</td>\n",
       "      <td>256</td>\n",
       "      <td>1650</td>\n",
       "      <td>61.452514</td>\n",
       "      <td>51.918063</td>\n",
       "      <td>9.534451</td>\n",
       "    </tr>\n",
       "    <tr>\n",
       "      <th>235</th>\n",
       "      <td>2025</td>\n",
       "      <td>14</td>\n",
       "      <td>2360</td>\n",
       "      <td>1232</td>\n",
       "      <td>284</td>\n",
       "      <td>1516</td>\n",
       "      <td>64.237288</td>\n",
       "      <td>52.203390</td>\n",
       "      <td>12.033898</td>\n",
       "    </tr>\n",
       "    <tr>\n",
       "      <th>236</th>\n",
       "      <td>2025</td>\n",
       "      <td>15</td>\n",
       "      <td>1632</td>\n",
       "      <td>589</td>\n",
       "      <td>274</td>\n",
       "      <td>863</td>\n",
       "      <td>52.879902</td>\n",
       "      <td>36.090686</td>\n",
       "      <td>16.789216</td>\n",
       "    </tr>\n",
       "    <tr>\n",
       "      <th>237</th>\n",
       "      <td>2025</td>\n",
       "      <td>16</td>\n",
       "      <td>770</td>\n",
       "      <td>210</td>\n",
       "      <td>127</td>\n",
       "      <td>337</td>\n",
       "      <td>43.766234</td>\n",
       "      <td>27.272727</td>\n",
       "      <td>16.493506</td>\n",
       "    </tr>\n",
       "  </tbody>\n",
       "</table>\n",
       "</div>"
      ],
      "text/plain": [
       "     YEAR  WEEK  TOTAL SPECIMENS  TOTAL A  TOTAL B  TOTAL POSITIVE  \\\n",
       "233  2025    12             4324     2784      287            3071   \n",
       "234  2025    13             2685     1394      256            1650   \n",
       "235  2025    14             2360     1232      284            1516   \n",
       "236  2025    15             1632      589      274             863   \n",
       "237  2025    16              770      210      127             337   \n",
       "\n",
       "     PERCENT POSITIVE  PERCENT A  PERCENT B  \n",
       "233         71.022202  64.384829   6.637373  \n",
       "234         61.452514  51.918063   9.534451  \n",
       "235         64.237288  52.203390  12.033898  \n",
       "236         52.879902  36.090686  16.789216  \n",
       "237         43.766234  27.272727  16.493506  "
      ]
     },
     "execution_count": 92,
     "metadata": {},
     "output_type": "execute_result"
    }
   ],
   "source": [
    "publico.tail()"
   ]
  },
  {
   "cell_type": "markdown",
   "id": "41bd45c6-54f0-4692-ac27-7f60b0c1e11a",
   "metadata": {
    "tags": []
   },
   "source": [
    "# Limpeza dados \n",
    "## 3- ILI"
   ]
  },
  {
   "cell_type": "code",
   "execution_count": 94,
   "id": "4d7b8d63-a597-4d0f-8940-60c7578dcab7",
   "metadata": {
    "tags": []
   },
   "outputs": [
    {
     "data": {
      "text/html": [
       "<div>\n",
       "<style scoped>\n",
       "    .dataframe tbody tr th:only-of-type {\n",
       "        vertical-align: middle;\n",
       "    }\n",
       "\n",
       "    .dataframe tbody tr th {\n",
       "        vertical-align: top;\n",
       "    }\n",
       "\n",
       "    .dataframe thead th {\n",
       "        text-align: right;\n",
       "    }\n",
       "</style>\n",
       "<table border=\"1\" class=\"dataframe\">\n",
       "  <thead>\n",
       "    <tr style=\"text-align: right;\">\n",
       "      <th></th>\n",
       "      <th>REGION TYPE</th>\n",
       "      <th>REGION</th>\n",
       "      <th>YEAR</th>\n",
       "      <th>WEEK</th>\n",
       "      <th>% WEIGHTED ILI</th>\n",
       "      <th>%UNWEIGHTED ILI</th>\n",
       "      <th>AGE 0-4</th>\n",
       "      <th>AGE 25-49</th>\n",
       "      <th>AGE 25-64</th>\n",
       "      <th>AGE 5-24</th>\n",
       "      <th>AGE 50-64</th>\n",
       "      <th>AGE 65</th>\n",
       "      <th>ILITOTAL</th>\n",
       "      <th>NUM. OF PROVIDERS</th>\n",
       "      <th>TOTAL PATIENTS</th>\n",
       "    </tr>\n",
       "  </thead>\n",
       "  <tbody>\n",
       "    <tr>\n",
       "      <th>233</th>\n",
       "      <td>National</td>\n",
       "      <td>X</td>\n",
       "      <td>2025</td>\n",
       "      <td>12</td>\n",
       "      <td>3.31604</td>\n",
       "      <td>3.32813</td>\n",
       "      <td>15123</td>\n",
       "      <td>24192</td>\n",
       "      <td>X</td>\n",
       "      <td>28177</td>\n",
       "      <td>10048</td>\n",
       "      <td>10433</td>\n",
       "      <td>87973</td>\n",
       "      <td>4173</td>\n",
       "      <td>2643314</td>\n",
       "    </tr>\n",
       "    <tr>\n",
       "      <th>234</th>\n",
       "      <td>National</td>\n",
       "      <td>X</td>\n",
       "      <td>2025</td>\n",
       "      <td>13</td>\n",
       "      <td>2.95612</td>\n",
       "      <td>2.97203</td>\n",
       "      <td>13735</td>\n",
       "      <td>21534</td>\n",
       "      <td>X</td>\n",
       "      <td>25315</td>\n",
       "      <td>8396</td>\n",
       "      <td>8462</td>\n",
       "      <td>77442</td>\n",
       "      <td>4179</td>\n",
       "      <td>2605693</td>\n",
       "    </tr>\n",
       "    <tr>\n",
       "      <th>235</th>\n",
       "      <td>National</td>\n",
       "      <td>X</td>\n",
       "      <td>2025</td>\n",
       "      <td>14</td>\n",
       "      <td>2.61982</td>\n",
       "      <td>2.61412</td>\n",
       "      <td>12044</td>\n",
       "      <td>18649</td>\n",
       "      <td>X</td>\n",
       "      <td>21801</td>\n",
       "      <td>7314</td>\n",
       "      <td>7151</td>\n",
       "      <td>66959</td>\n",
       "      <td>4169</td>\n",
       "      <td>2561436</td>\n",
       "    </tr>\n",
       "    <tr>\n",
       "      <th>236</th>\n",
       "      <td>National</td>\n",
       "      <td>X</td>\n",
       "      <td>2025</td>\n",
       "      <td>15</td>\n",
       "      <td>2.45037</td>\n",
       "      <td>2.38458</td>\n",
       "      <td>11613</td>\n",
       "      <td>16700</td>\n",
       "      <td>X</td>\n",
       "      <td>19766</td>\n",
       "      <td>6470</td>\n",
       "      <td>6408</td>\n",
       "      <td>60957</td>\n",
       "      <td>4159</td>\n",
       "      <td>2556303</td>\n",
       "    </tr>\n",
       "    <tr>\n",
       "      <th>237</th>\n",
       "      <td>National</td>\n",
       "      <td>X</td>\n",
       "      <td>2025</td>\n",
       "      <td>16</td>\n",
       "      <td>2.27570</td>\n",
       "      <td>2.21627</td>\n",
       "      <td>11034</td>\n",
       "      <td>15477</td>\n",
       "      <td>X</td>\n",
       "      <td>17588</td>\n",
       "      <td>5911</td>\n",
       "      <td>6085</td>\n",
       "      <td>56095</td>\n",
       "      <td>4084</td>\n",
       "      <td>2531059</td>\n",
       "    </tr>\n",
       "  </tbody>\n",
       "</table>\n",
       "</div>"
      ],
      "text/plain": [
       "    REGION TYPE REGION  YEAR  WEEK  % WEIGHTED ILI  %UNWEIGHTED ILI  AGE 0-4  \\\n",
       "233    National      X  2025    12         3.31604          3.32813    15123   \n",
       "234    National      X  2025    13         2.95612          2.97203    13735   \n",
       "235    National      X  2025    14         2.61982          2.61412    12044   \n",
       "236    National      X  2025    15         2.45037          2.38458    11613   \n",
       "237    National      X  2025    16         2.27570          2.21627    11034   \n",
       "\n",
       "     AGE 25-49 AGE 25-64  AGE 5-24  AGE 50-64  AGE 65  ILITOTAL  \\\n",
       "233      24192         X     28177      10048   10433     87973   \n",
       "234      21534         X     25315       8396    8462     77442   \n",
       "235      18649         X     21801       7314    7151     66959   \n",
       "236      16700         X     19766       6470    6408     60957   \n",
       "237      15477         X     17588       5911    6085     56095   \n",
       "\n",
       "     NUM. OF PROVIDERS  TOTAL PATIENTS  \n",
       "233               4173         2643314  \n",
       "234               4179         2605693  \n",
       "235               4169         2561436  \n",
       "236               4159         2556303  \n",
       "237               4084         2531059  "
      ]
     },
     "execution_count": 94,
     "metadata": {},
     "output_type": "execute_result"
    }
   ],
   "source": [
    "ili.tail()"
   ]
  },
  {
   "cell_type": "code",
   "execution_count": 95,
   "id": "d0da515f-7e72-4608-93ab-2fc48bb480c8",
   "metadata": {
    "tags": []
   },
   "outputs": [],
   "source": [
    "ili.drop(columns=['REGION', 'REGION TYPE', 'AGE 25-64'], inplace=True)"
   ]
  },
  {
   "cell_type": "code",
   "execution_count": 96,
   "id": "47de2730-387f-4eac-8b57-76639c2434c4",
   "metadata": {
    "tags": []
   },
   "outputs": [],
   "source": [
    "ili.drop(columns=['NUM. OF PROVIDERS'], inplace=True)"
   ]
  },
  {
   "cell_type": "code",
   "execution_count": 97,
   "id": "29628727-74d6-4b3e-a3c7-f5fff8e006f0",
   "metadata": {
    "tags": []
   },
   "outputs": [
    {
     "data": {
      "text/html": [
       "<div>\n",
       "<style scoped>\n",
       "    .dataframe tbody tr th:only-of-type {\n",
       "        vertical-align: middle;\n",
       "    }\n",
       "\n",
       "    .dataframe tbody tr th {\n",
       "        vertical-align: top;\n",
       "    }\n",
       "\n",
       "    .dataframe thead th {\n",
       "        text-align: right;\n",
       "    }\n",
       "</style>\n",
       "<table border=\"1\" class=\"dataframe\">\n",
       "  <thead>\n",
       "    <tr style=\"text-align: right;\">\n",
       "      <th></th>\n",
       "      <th>YEAR</th>\n",
       "      <th>WEEK</th>\n",
       "      <th>% WEIGHTED ILI</th>\n",
       "      <th>%UNWEIGHTED ILI</th>\n",
       "      <th>AGE 0-4</th>\n",
       "      <th>AGE 25-49</th>\n",
       "      <th>AGE 5-24</th>\n",
       "      <th>AGE 50-64</th>\n",
       "      <th>AGE 65</th>\n",
       "      <th>ILITOTAL</th>\n",
       "      <th>TOTAL PATIENTS</th>\n",
       "    </tr>\n",
       "  </thead>\n",
       "  <tbody>\n",
       "    <tr>\n",
       "      <th>233</th>\n",
       "      <td>2025</td>\n",
       "      <td>12</td>\n",
       "      <td>3.31604</td>\n",
       "      <td>3.32813</td>\n",
       "      <td>15123</td>\n",
       "      <td>24192</td>\n",
       "      <td>28177</td>\n",
       "      <td>10048</td>\n",
       "      <td>10433</td>\n",
       "      <td>87973</td>\n",
       "      <td>2643314</td>\n",
       "    </tr>\n",
       "    <tr>\n",
       "      <th>234</th>\n",
       "      <td>2025</td>\n",
       "      <td>13</td>\n",
       "      <td>2.95612</td>\n",
       "      <td>2.97203</td>\n",
       "      <td>13735</td>\n",
       "      <td>21534</td>\n",
       "      <td>25315</td>\n",
       "      <td>8396</td>\n",
       "      <td>8462</td>\n",
       "      <td>77442</td>\n",
       "      <td>2605693</td>\n",
       "    </tr>\n",
       "    <tr>\n",
       "      <th>235</th>\n",
       "      <td>2025</td>\n",
       "      <td>14</td>\n",
       "      <td>2.61982</td>\n",
       "      <td>2.61412</td>\n",
       "      <td>12044</td>\n",
       "      <td>18649</td>\n",
       "      <td>21801</td>\n",
       "      <td>7314</td>\n",
       "      <td>7151</td>\n",
       "      <td>66959</td>\n",
       "      <td>2561436</td>\n",
       "    </tr>\n",
       "    <tr>\n",
       "      <th>236</th>\n",
       "      <td>2025</td>\n",
       "      <td>15</td>\n",
       "      <td>2.45037</td>\n",
       "      <td>2.38458</td>\n",
       "      <td>11613</td>\n",
       "      <td>16700</td>\n",
       "      <td>19766</td>\n",
       "      <td>6470</td>\n",
       "      <td>6408</td>\n",
       "      <td>60957</td>\n",
       "      <td>2556303</td>\n",
       "    </tr>\n",
       "    <tr>\n",
       "      <th>237</th>\n",
       "      <td>2025</td>\n",
       "      <td>16</td>\n",
       "      <td>2.27570</td>\n",
       "      <td>2.21627</td>\n",
       "      <td>11034</td>\n",
       "      <td>15477</td>\n",
       "      <td>17588</td>\n",
       "      <td>5911</td>\n",
       "      <td>6085</td>\n",
       "      <td>56095</td>\n",
       "      <td>2531059</td>\n",
       "    </tr>\n",
       "  </tbody>\n",
       "</table>\n",
       "</div>"
      ],
      "text/plain": [
       "     YEAR  WEEK  % WEIGHTED ILI  %UNWEIGHTED ILI  AGE 0-4  AGE 25-49  \\\n",
       "233  2025    12         3.31604          3.32813    15123      24192   \n",
       "234  2025    13         2.95612          2.97203    13735      21534   \n",
       "235  2025    14         2.61982          2.61412    12044      18649   \n",
       "236  2025    15         2.45037          2.38458    11613      16700   \n",
       "237  2025    16         2.27570          2.21627    11034      15477   \n",
       "\n",
       "     AGE 5-24  AGE 50-64  AGE 65  ILITOTAL  TOTAL PATIENTS  \n",
       "233     28177      10048   10433     87973         2643314  \n",
       "234     25315       8396    8462     77442         2605693  \n",
       "235     21801       7314    7151     66959         2561436  \n",
       "236     19766       6470    6408     60957         2556303  \n",
       "237     17588       5911    6085     56095         2531059  "
      ]
     },
     "execution_count": 97,
     "metadata": {},
     "output_type": "execute_result"
    }
   ],
   "source": [
    "ili.tail()"
   ]
  },
  {
   "cell_type": "markdown",
   "id": "cf7908f9-1136-49bb-8173-a27769d806b6",
   "metadata": {},
   "source": [
    "# Unindo as tabelas\n",
    "## Clinico, publico e ILI"
   ]
  },
  {
   "cell_type": "code",
   "execution_count": 102,
   "id": "f8291c15-3d37-47d7-8d3d-59f84c1898b9",
   "metadata": {},
   "outputs": [],
   "source": [
    "dados_somados = pd.concat([clinico, publico], ignore_index=True)\n",
    "colunas_somar = ['TOTAL SPECIMENS', 'TOTAL A', 'TOTAL B', 'TOTAL POSITIVE']\n",
    "gripe = dados_somados.groupby(['YEAR', 'WEEK'])[colunas_somar].sum().reset_index()"
   ]
  },
  {
   "cell_type": "code",
   "execution_count": 103,
   "id": "38e970fd-298d-4063-86fc-441219d9a0e8",
   "metadata": {
    "tags": []
   },
   "outputs": [
    {
     "data": {
      "text/html": [
       "<div>\n",
       "<style scoped>\n",
       "    .dataframe tbody tr th:only-of-type {\n",
       "        vertical-align: middle;\n",
       "    }\n",
       "\n",
       "    .dataframe tbody tr th {\n",
       "        vertical-align: top;\n",
       "    }\n",
       "\n",
       "    .dataframe thead th {\n",
       "        text-align: right;\n",
       "    }\n",
       "</style>\n",
       "<table border=\"1\" class=\"dataframe\">\n",
       "  <thead>\n",
       "    <tr style=\"text-align: right;\">\n",
       "      <th></th>\n",
       "      <th>YEAR</th>\n",
       "      <th>WEEK</th>\n",
       "      <th>TOTAL SPECIMENS</th>\n",
       "      <th>TOTAL A</th>\n",
       "      <th>TOTAL B</th>\n",
       "      <th>TOTAL POSITIVE</th>\n",
       "    </tr>\n",
       "  </thead>\n",
       "  <tbody>\n",
       "    <tr>\n",
       "      <th>233</th>\n",
       "      <td>2025</td>\n",
       "      <td>12</td>\n",
       "      <td>101766</td>\n",
       "      <td>9289</td>\n",
       "      <td>4237</td>\n",
       "      <td>13526</td>\n",
       "    </tr>\n",
       "    <tr>\n",
       "      <th>234</th>\n",
       "      <td>2025</td>\n",
       "      <td>13</td>\n",
       "      <td>92737</td>\n",
       "      <td>5852</td>\n",
       "      <td>4147</td>\n",
       "      <td>9999</td>\n",
       "    </tr>\n",
       "    <tr>\n",
       "      <th>235</th>\n",
       "      <td>2025</td>\n",
       "      <td>14</td>\n",
       "      <td>84463</td>\n",
       "      <td>4077</td>\n",
       "      <td>3699</td>\n",
       "      <td>7776</td>\n",
       "    </tr>\n",
       "    <tr>\n",
       "      <th>236</th>\n",
       "      <td>2025</td>\n",
       "      <td>15</td>\n",
       "      <td>75736</td>\n",
       "      <td>2360</td>\n",
       "      <td>3225</td>\n",
       "      <td>5585</td>\n",
       "    </tr>\n",
       "    <tr>\n",
       "      <th>237</th>\n",
       "      <td>2025</td>\n",
       "      <td>16</td>\n",
       "      <td>64336</td>\n",
       "      <td>1383</td>\n",
       "      <td>2485</td>\n",
       "      <td>3868</td>\n",
       "    </tr>\n",
       "  </tbody>\n",
       "</table>\n",
       "</div>"
      ],
      "text/plain": [
       "     YEAR  WEEK  TOTAL SPECIMENS  TOTAL A  TOTAL B  TOTAL POSITIVE\n",
       "233  2025    12           101766     9289     4237           13526\n",
       "234  2025    13            92737     5852     4147            9999\n",
       "235  2025    14            84463     4077     3699            7776\n",
       "236  2025    15            75736     2360     3225            5585\n",
       "237  2025    16            64336     1383     2485            3868"
      ]
     },
     "execution_count": 103,
     "metadata": {},
     "output_type": "execute_result"
    }
   ],
   "source": [
    "gripe.tail()"
   ]
  },
  {
   "cell_type": "code",
   "execution_count": 107,
   "id": "afff9a3b-c29b-4df8-ae83-fc43b1b91ab1",
   "metadata": {
    "tags": []
   },
   "outputs": [
    {
     "data": {
      "text/plain": [
       "0"
      ]
     },
     "execution_count": 107,
     "metadata": {},
     "output_type": "execute_result"
    }
   ],
   "source": [
    "gripe.duplicated().sum()"
   ]
  },
  {
   "cell_type": "code",
   "execution_count": 114,
   "id": "07535021-3984-4740-9fa9-d3f8d340d010",
   "metadata": {
    "tags": []
   },
   "outputs": [],
   "source": [
    "gripe['PERCENT POSITIVE'] = (gripe['TOTAL POSITIVE'] / gripe['TOTAL SPECIMENS']) * 100\n",
    "gripe['PERCENT A'] = (gripe['TOTAL A'] / gripe['TOTAL SPECIMENS']) * 100\n",
    "gripe['PERCENT B'] = (gripe['TOTAL B'] / gripe['TOTAL SPECIMENS']) * 100"
   ]
  },
  {
   "cell_type": "code",
   "execution_count": null,
   "id": "3c66f2c8-9c70-495d-bacc-3cffcd5c7c7d",
   "metadata": {
    "tags": []
   },
   "outputs": [],
   "source": []
  },
  {
   "cell_type": "code",
   "execution_count": null,
   "id": "bcf39a3d-3288-4a03-99c1-81d47160ad81",
   "metadata": {},
   "outputs": [],
   "source": []
  }
 ],
 "metadata": {
  "kernelspec": {
   "display_name": "Python 3 (ipykernel)",
   "language": "python",
   "name": "python3"
  },
  "language_info": {
   "codemirror_mode": {
    "name": "ipython",
    "version": 3
   },
   "file_extension": ".py",
   "mimetype": "text/x-python",
   "name": "python",
   "nbconvert_exporter": "python",
   "pygments_lexer": "ipython3",
   "version": "3.11.3"
  }
 },
 "nbformat": 4,
 "nbformat_minor": 5
}
